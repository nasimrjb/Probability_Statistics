{
 "cells": [
  {
   "cell_type": "markdown",
   "metadata": {},
   "source": [
    "<div style=\"direction:rtl;line-height:300%;\">\n",
    "\t<font face=\"XB Zar\" size=5>\n",
    "\t\t<div align=center>\n",
    "\t\t\t<font face=\"IranNastaliq\" size=30>\n",
    "\t\t\t\t<p></p>\n",
    "\t\t\t\t<p></p>\n",
    "به نام خدا\n",
    "\t\t\t\t<p></p>\n",
    "\t\t\t</font>\n",
    "\t\t\t<font color=#FF7500>\n",
    "دانشگاه صنعتی شریف - دانشکده مهندسی کامپیوتر\n",
    "            </font>\n",
    "\t\t\t<p></p>\n",
    "\t\t\t<font color=blue>\n",
    "آمار و احتمال مهندسی\n",
    "            </font>\n",
    "\t\t\t<br />\n",
    "\t\t\t<br />\n",
    "پاییز ۱۳۹۸\n",
    "\t\t</div>\n",
    "\t\t<hr/>\n",
    "\t\t<font color=red size=6>\n",
    "\t\t\t<br />\n",
    "\t\t\t<div align=center>\n",
    "توزیع پوآسون، هندسی و فوق‌هندسی            </div>\n",
    "\t\t</font>\n",
    "\t\t<br />\n",
    "\t\t<div align=center>\n",
    "وحید بالازاده\n",
    "        <br />\n",
    "امیرحسین بهرامی\n",
    "        </div>\n",
    "\t\t<hr />\n",
    "\t\t<style type=\"text/css\" scoped>\n",
    "        p{\n",
    "        border: 1px solid #a2a9b1;background-color: #f8f9fa;display: inline-block;\n",
    "        };\n",
    "        </style>\n",
    "\t\t<div>\n",
    "\t\t\t<h3>فهرست مطالب</h3>\n",
    "\t\t\t<ul style=\"margin-right: 0;\">\n",
    "\t\t\t\t<li>\n",
    "                    <a href=\"#sec_intro\">\n",
    "                        ماشین‌بازی میلاد و سینا\n",
    "                    </a>\n",
    "                </li>\n",
    "                <li>\n",
    "                    <a href=\"#sec_def\">\n",
    "                     با یک فایل پر از زمان ماشین‌های عبوری چه می‌توان کرد؟\n",
    "                    </a>\n",
    "                </li>\n",
    "                <li>\n",
    "                    <a href=\"#sec_pois\">\n",
    "                       فرایند پوآسون تقریبی و توزیع‌های پوآسون\n",
    "                    </a>\n",
    "                </li>\n",
    "                <li>\n",
    "                    <a href=\"#sec_pois_eg\">\n",
    "                        یک مثال\n",
    "                    </a>\n",
    "                </li>\n",
    "                <li>\n",
    "                    <a href=\"#sec_geo\">\n",
    "                        توزیع‌های هندسی\n",
    "                    </a>\n",
    "                </li>\n",
    "                <li>\n",
    "                    <a href=\"#sec_geo_eg\">\n",
    "                        یک مثال\n",
    "                    </a>\n",
    "                </li>\n",
    "                 <li>\n",
    "                    <a href=\"#sec_hypergeo\">\n",
    "                        آشنایی با توزیع‌های فوق هندسی\n",
    "                    </a>\n",
    "                </li>\n",
    "                <li>\n",
    "                    <a href=\"#sec_refs\">\n",
    "                        منابع\n",
    "                    </a>\n",
    "                </li>\n",
    "\t\t\t</ul>\n",
    "\t\t</div>\n",
    "\t</font>\n",
    "</div>"
   ]
  },
  {
   "cell_type": "markdown",
   "metadata": {},
   "source": [
    "<p></p>\n",
    "<br />\n",
    "<div id=\"sec_intro\" style=\"direction:rtl;line-height:300%;\">\n",
    "\t<font face=\"XB Zar\" size=5>\n",
    "\t\t<font color=#FF7500 size=6>\n",
    "ماشین‌بازی میلاد و سینا\n",
    "        </font>\n",
    "\t\t<p></p>\n",
    "\t\t<hr>\n",
    "        استاد درس نبود. دو تا دانشجوی متعهد انتخاب کرد که بروند احتمال درس بدهند. میلاد که خلاقیتش زیاد بود رفت یک گوشه شهر، خیابانی پیدا کرد و دوربین به‌دست ایستاد و شروع کرد فیلم‌گرفتن از ماشین‌های رهگذر. سینا خبر نداشت. میلاد آمد اما نمی‌دانست با یک فیلم پر از ماشین چه کند. به سینا گفت و نشستند ماشین‌ها را شمردند و یک فایل درست کردند که لحظه گذر هر ماشین از جلوی دوربین میلاد بود. \n",
    "        حالا سینا و میلاد نمی‌دانستند با یک فایل پر از زمان عبوری ماشین‌ها چه کنند...\n",
    "  \t</font>\n",
    "</div>"
   ]
  },
  {
   "cell_type": "markdown",
   "metadata": {},
   "source": [
    "<p></p>\n",
    "<br />\n",
    "<div id=\"sec_def\" style=\"direction:rtl;line-height:300%;\">\n",
    "\t<font face=\"XB Zar\" size=5>\n",
    "\t\t<font color=#FF7500 size=6>\n",
    "            با یک فایل پر از زمان ماشین‌های عبوری چه می‌توان کرد؟        </font>\n",
    "\t\t<p></p>\n",
    "\t\t<hr>\n",
    "       «دانشجو» در یک استارتاپ مسیریابی کار می‌کند. مدیرش از او خواسته‌است تا روشی پیدا کند که بتوان مقدار پرترافیک بودن هر خیابان را مشخص کرد. دانشجو با دیدن میلاد و سینا به خود می‌آید و تصمیم می‌گیرد از داده آنها برای کارش استفاده کند. او معیار پرترافیک بودن هر خیابان را \n",
    "        <b> متوسط تعداد ماشین‌های عبوری در یک مدت زمان معین</b> از آن خیابان در نظر می‌گیرد (مثلا یک دقیقه). \n",
    "        <br>\n",
    "         در زیر ترافیک خیابانی که میلاد از آن فیلم گرفته بود را طبق معیار دانشجو حساب می‌کنیم:(هر سطر در داده‌ها نشان‌دهنده زمان لحظه‌ای عبور یک ماشین است) \n",
    "\t</font>\n",
    "</div>"
   ]
  },
  {
   "cell_type": "code",
   "execution_count": 1,
   "metadata": {},
   "outputs": [
    {
     "name": "stdout",
     "output_type": "stream",
     "text": [
      "   minute   second\n",
      "0       0        0\n",
      "1       0        1\n",
      "2       0        2\n",
      "3       0        3\n",
      "4       0        3\n"
     ]
    }
   ],
   "source": [
    "import pandas as pd\n",
    "\n",
    "cars = pd.read_csv('data/car.csv')\n",
    "print(cars.head())"
   ]
  },
  {
   "cell_type": "code",
   "execution_count": 4,
   "metadata": {},
   "outputs": [
    {
     "name": "stdout",
     "output_type": "stream",
     "text": [
      "39.0\n"
     ]
    }
   ],
   "source": [
    "traffic = len(cars) / (cars['minute'].max() - cars['minute'].min())\n",
    "print(traffic)"
   ]
  },
  {
   "cell_type": "markdown",
   "metadata": {},
   "source": [
    "<p></p>\n",
    "<br />\n",
    "<div id=\"sec_def\" style=\"direction:rtl;line-height:300%;\">\n",
    "\t<font face=\"XB Zar\" size=5>\n",
    "\t\t<p></p>\n",
    "        اما دانشجو که آدم محتاطی است، تصمیم می‌گیرد این عدد را به مدیرش گزارش نکند و به‌جای استفاده از یک عدد به عنوان ترافیک خیابان‌ها از یک مدل احتمالاتی استفاده کند. در واقع سعی می‌کند به جای اتکای خالص بر داده‌ها کمی هم  شهودش را به کار گیرد. پس تلاش می‌کند به تعداد ماشین‌های عبوری در مدت زمان معین از یک خیابان یک احتمال نسبت دهد.<br>\n",
    "         برای این‌کار فرض‌های زیر را روی عبور ماشین‌ها در یک بازه زمانی معین(مثلا یک دقیقه) در نظر می‌گیرد:\n",
    "        <br>\n",
    "        <li>\n",
    "            تعداد ماشین‌های عبوری در بازه‌های زمانی <b>ناهم‌پوش </b>از بازه معین شده، از یکدیگر <b>مستقل</b> باشند. برای مثال دانستن اینکه در یک ثانیه قبل چند ماشین از این خیابان عبور کرده اند دانش ما درباره ثانیه بعد را تحت تاثیر قرار ندهد. (البته این فرض به طور واضح درباره مثال ماشین‌ها اشتباه است. مثلا فرض کنید ماشینها پشت چراغ قرمز بودند و پس از سبز شدن چراغ اولین ماشین را مشاهده میکنیم. بنابراین پس از مشاهده پی به سبز شدن چراغ و در نتیجه ورود ماشینهای بیشتر به خیابان خواهیم برد. به هرحال گاهی چنین فرضهایی در نتیجه عملی کارساز است)         </li>\n",
    "        <br>\n",
    "        <li>\n",
    "            احتمال گذر <b>دقیقا یک</b> ماشین در یک بازه زمانی <b> کوتاه </b> به طول $h = \\frac{1}{n}$ دقیقه، به طور تقریبی <b>متناسب با طول بازه</b> باشد. برای سادگی فرض میکنیم ضریب این تناسب یک مقدار ثابت $\\lambda > 0$ است. بنابراین احتمال گذر دقیقا یک ماشین در بازه کوتاه $h$ تقریبا برابر $\\lambda h = \\frac{\\lambda}{n}$ است.\n",
    "            <br>\n",
    "            به نظر شما این فرض منطقی است؟\n",
    "        </li>\n",
    "        <br>\n",
    "        <li>\n",
    "            احتمال عبور <b>دو یا بیش‌تر</b> ماشین در یک بازه زمانی <b>کوتاه</b> (مثلا $h$) <b>صفر</b> باشد. در واقع بتوان بازه‌ها را آنقدر کوچک کرد که در هر بازه تنها حداکثر یک رخداد روی دهد. این فرض درباره حرکت ماشین‌ها تا حدی منطقی است. در واقع این‌که دو یا چند ماشین دقیقا در یک لحظه از جلوی دوربین(به عنوان یک نقطه) عبور کنند نامحتمل است.\n",
    "        </li>\n",
    "\t</font>\n",
    "</div>\n"
   ]
  },
  {
   "cell_type": "markdown",
   "metadata": {},
   "source": [
    "<p></p>\n",
    "<br />\n",
    "<div id=\"sec_pois\" style=\"direction:rtl;line-height:300%;\">\n",
    "\t<font face=\"XB Zar\" size=5>\n",
    "\t\t<font color=#FF7500 size=6>\n",
    "           فرایند پوآسون تقریبی و توزیع‌های پوآسون       </font>\n",
    "\t\t<p></p>\n",
    "\t\t<hr>\n",
    "        اگر $X$ را یک متغیر تصادفی در نظر بگیریم که تعداد وقوع یک رخداد را در یک بازه پیوسته (زمانی و یا مکانی)  نشان می‌دهد، می‌گوییم $X$ از یک فرایند پوآسون تقریبی پیروی می‌کند اگر سه فرضی که در انتهای قسمت قبل گفته شد برقرار باشد. ($X$ در مثال بالا تعداد ماشین‌های عبوری از جلوی دوربین در یک بازه زمانی پیوسته است.)\n",
    "        <br>\n",
    "        بازه‌ی معینی که متغیر $X$ روی آن تعریف شده را در نظر بگیرید. (مثلا یک دقیقه) آن را به $n$ قسمت تقسیم می‌کنیم طوری که بازه‌های به طول $h = \\frac{1}{n}$ دقیقه در فرض‌های دو و سه صدق کنند.\n",
    "                <img src=\"figure/poisson.png\" width=\"500\">\n",
    "        <br>\n",
    "        وقوع یک رخداد در هر کدام از این بازه‌ها با توجه به فرض دو و سه از یک توزیع برنولی با پارامتر $\\frac{\\lambda}{n}$ می‌آید.(در هر بازه کوچک احتمال وقوع یک رخداد برابر $\\frac{\\lambda}{n}$ و احتمال وقوع بیش از یک رخداد برابر صفر است). بنابراین پیشامد وقوع $k$ رخداد در بازه یک دقیقه برابر پیشامد وقوع یک رخداد در $k$ بازه کوچک\n",
    "         از $n$ بازه است. از طرفی طبق فرض مستقل بودن تعداد رخدادها در این بازه‌های کوچک(فرض اول) داریم:\n",
    "        <br>\n",
    "        <center>\n",
    "        $P(X=k) = P((k) \\text{ success and }(n-k) \\text{ failure}) = \\binom{n}{k} (\\frac{\\lambda}{n})^{k} (1 - \\frac{\\lambda}{n})^{n-k}$\n",
    "        </center>\n",
    "\t</font>\n",
    "</div>"
   ]
  },
  {
   "cell_type": "markdown",
   "metadata": {},
   "source": [
    "<p></p>\n",
    "<br />\n",
    "<div id=\"sec_def\" style=\"direction:rtl;line-height:300%;\">\n",
    "\t<font face=\"XB Zar\" size=5>\n",
    "        <ul>\n",
    "            حال اگر اندازه بازه‌ها را به طور دلخواه کوچک کنیم ($n\\rightarrow \\infty$) خواهیم داشت:<br>\n",
    "            <center>\n",
    "            $lim_{n\\to\\infty} \\binom{n}{k} (\\frac{\\lambda}{n})^{k} (1 - \\frac{\\lambda}{n})^{n-k} = lim_{n\\to\\infty} \\frac{n!}{k!(n-k)!} (\\frac{\\lambda^k}{n^k}) (1 - \\frac{\\lambda}{n})^{n}(1 - \\frac{\\lambda}{n})^{-k} = lim_{n\\to\\infty}\\frac{\\lambda^k}{k!} \\frac{n(n-1)(n-2)\\dots(n-k+1)}{n\\cdot n\\cdot n \\dots n} (1 - \\frac{\\lambda}{n})^{n}(1 - \\frac{\\lambda}{n})^{-k}$\n",
    "            </center>\n",
    "        </ul>\n",
    "\t</font>\n",
    "</div>"
   ]
  },
  {
   "cell_type": "markdown",
   "metadata": {},
   "source": [
    "<p></p>\n",
    "<br />\n",
    "<div id=\"sec_def\" style=\"direction:rtl;line-height:300%;\">\n",
    "\t<font face=\"XB Zar\" size=5>\n",
    "        از ریاضیات دبیرستان می‌دانیم $\\lim_{n\\to\\infty} (1-\\frac{\\lambda}{n})^n = e^{-\\lambda}$ از طرفی با توجه به ثابت بودن $k$ خواهیم داشت:<br>\n",
    "        <center>$\\lim_{n\\to\\infty} (1-\\frac{\\lambda}{n})^{-k} = 1^{-k} = 1$</center><br>\n",
    "        <center>$\\lim_{n\\to\\infty} \\frac{n(n-1)(n-2)\\dots(n-k+1)}{n\\cdot n\\cdot n \\dots n} = \\lim_{n\\to\\infty}1(1-\\frac{1}{n})(1-\\frac{2}{n})\\dots(1-\\frac{k-1}{n}) = 1$</center><br>\n",
    "\t</font>\n",
    "</div>"
   ]
  },
  {
   "cell_type": "markdown",
   "metadata": {},
   "source": [
    "<p></p>\n",
    "<br />\n",
    "<div id=\"sec_def\" style=\"direction:rtl;line-height:300%;\">\n",
    "\t<font face=\"XB Zar\" size=5>\n",
    "        با توجه به روابط بالا دانشجو سرانجام به فرمول زیر برای محاسبه احتمال تعداد ماشین‌های عبوری از یک خیابان در مدت یک دقیقه رسید:<br>\n",
    "        <center>\n",
    "            $P(X=k) = e^{-\\lambda}\\frac{\\lambda^k}{k!}\\quad k=0,1,2,\\dots$\n",
    "            </center>\n",
    "        <br>\n",
    "        <font color='blue'>تمرین: ثابت کنید فرمول به دست‌آمده برای توزیع پوآسون ویژگی‌های یک p.m.f را دارد( مثبت بودن و جمع برابر یک).</font>\n",
    "        <br>\n",
    "                اما هنوز یک مشکل وجود دارد. پارامتر $\\lambda$ که در فرض دوم به عنوان یک ضریب ثابت احتمال بازه‌های کوچک بود هنوز مجهول است. در واقع این $\\lambda$ است که توزیع تعداد ماشین‌های عبوری برای خیابان‌های مختلف را متمایز می‌کند. دانشجو تصمیم می‌گیرد مقدار مناسب را برای خیابان میلاد حساب کند. او قبلا متوسط تعداد ماشین‌های عبوری در یک دقیقه را حساب کرده بود. تلاش می‌کند تا این متوسط را از روی توزیع احتمال به‌دست بیاورد.<br>\n",
    " <font color='blue'>تمرین: ثابت کنید امیدریاضی (متوسط) متغیر تصادفی $X$ برابر $\\lambda$ است . سعی کنید واریانس این توزیع را نیز بدست آورید.</font>\n",
    "        <br>\n",
    " پس معنی پارامتر $\\lambda$ در توزیع پوآسون، متوسط تعداد رخدادها در مدت زمان معین‌شده (مثلا یک دقیقه در مثال خیابان میلاد) است.<br>\n",
    "        در زیر نمودار توزیع پوآسون به‌ازای $\\lambda$ های مختلف رسم شده‌است. محور افقی نشان‌دهنده مقادیر مختلف متغیر تصادفی $X$ است و محور عمودی احتمال هر کدام از این مقادیر را نشان می‌دهد. هر کدام از رنگ‌ها یک توزیع پوآسون خاص($\\lambda$ خاص) را نمایش می‌دهد. <br>\n",
    "        سوال: به نظر شما چرا با افزایش مقدار $\\lambda$ توزیع متقارن‌تر نمایش داده می‌شود؟ به طور کلی آیا توزیع پوآسون می‌تواند یک توزیع متقارن باشد؟\n",
    "\t</font>\n",
    "</div>"
   ]
  },
  {
   "cell_type": "code",
   "execution_count": 8,
   "metadata": {},
   "outputs": [
    {
     "data": {
      "image/png": "[encoded data removed]",
      "text/plain": [
       "<Figure size 640x480 with 1 Axes>"
      ]
     },
     "metadata": {},
     "output_type": "display_data"
    }
   ],
   "source": [
    "import numpy as np\n",
    "import matplotlib.pyplot as plt\n",
    "from scipy.stats import poisson\n",
    "\n",
    "# Define colors and lambdas\n",
    "color_set = ['steelblue', 'firebrick', 'forestgreen']\n",
    "lambdas = [1, 5, 10]\n",
    "x = np.arange(1, 21)\n",
    "\n",
    "# Plotting\n",
    "plt.scatter(x, poisson.pmf(x, lambdas[0]), color=color_set[0])\n",
    "plt.scatter(x, poisson.pmf(x, lambdas[1]), color=color_set[1])\n",
    "plt.scatter(x, poisson.pmf(x, lambdas[2]), color=color_set[2])\n",
    "\n",
    "# Adding labels and legend\n",
    "plt.xlabel(\"k\")\n",
    "plt.ylabel(\"P(X=k)\")\n",
    "plt.legend(title=\"Lambda\", loc='upper right', labels=lambdas)\n",
    "plt.title(\"Poisson Distribution PMF\")\n",
    "plt.show()\n"
   ]
  },
  {
   "cell_type": "markdown",
   "metadata": {},
   "source": [
    "<p></p>\n",
    "<br />\n",
    "<div id=\"sec_def\" style=\"direction:rtl;line-height:300%;\">\n",
    "\t<font face=\"XB Zar\" size=5>\n",
    " در مثال ماشین‌های میلاد متوسط تعداد ماشین‌های عبوری در یک دقیقه برابر 39 محاسبه شد.<br> در زیر توزیع پوآسون با مقدار $\\lambda=39$ رسم شده است (نقاط قرمز در نمودار زیر). علاوه بر این با استفاده از داده‌های میلاد، تعداد ماشین‌های عبوری در دقایق مختلف (ده دقیقه) به دست آمده و نمودار مستطیلی احتمال این داده‌ها رسم شده است. (مستطیل‌های آبی)\t\n",
    " </font>\n",
    "</div>"
   ]
  },
  {
   "cell_type": "code",
   "execution_count": 9,
   "metadata": {},
   "outputs": [
    {
     "data": {
      "image/png": "[encoded data removed]",
      "text/plain": [
       "<Figure size 640x480 with 1 Axes>"
      ]
     },
     "metadata": {},
     "output_type": "display_data"
    }
   ],
   "source": [
    "import numpy as np\n",
    "import matplotlib.pyplot as plt\n",
    "from scipy.stats import poisson\n",
    "\n",
    "# Define the color set\n",
    "color_set = ['steelblue', 'firebrick']\n",
    "\n",
    "# Function for plotting histogram of data and Poisson density\n",
    "def plot_hist_pois(Ks, lambd):\n",
    "    bins = (max(Ks) - min(Ks)) // 2\n",
    "    rng = np.arange(min(Ks) - 1, max(Ks) + 2)\n",
    "    probs = poisson.pmf(rng, lambd)\n",
    "    \n",
    "    # Create histogram\n",
    "    plt.hist(Ks, bins=bins, density=True, color=color_set[0], alpha=0.6, label='Observed data')\n",
    "    \n",
    "    # Plot Poisson density points\n",
    "    plt.scatter(rng, probs, color=color_set[1], label='Poisson dist', zorder=5)\n",
    "    \n",
    "    # Add labels and legend\n",
    "    plt.ylabel(\"P(X=k)\")\n",
    "    plt.xlabel(\"k\")\n",
    "    plt.legend(loc=\"upper right\")\n",
    "    plt.title(\"Histogram of Passing Cars with Poisson Density\")\n",
    "    plt.show()\n",
    "\n",
    "# Assuming cars DataFrame is already defined as before\n",
    "# Number of passing cars per minute\n",
    "Ks = [sum(cars['minute'] == x) for x in range(10)]\n",
    "lambd = 39\n",
    "plot_hist_pois(Ks, lambd)\n"
   ]
  },
  {
   "cell_type": "markdown",
   "metadata": {},
   "source": [
    "<div id=\"simple_sample_question\" style=\"direction:rtl;line-height:300%;\">\n",
    "\t<font face=\"XB Zar\" size=5>\n",
    "        <ul style=\"margin-right: 0;\">\n",
    "               دانشجو به این فکر می‌کند که تا به حال تمام مدلش را در زمان یک دقیقه در نظر گرفته بود. در واقع در  فرایند رسیدن به توزیع پوآسون واحد زمان یک دقیقه بود. دانشجو اما حوصله دوباره حساب کردن مقدار $\\lambda$ را برای مقادیر مختلف زمان (مثلا در 30 ثانیه) ندارد و می‌خواهد از همین عدد به دست آمده در یک دقیقه ($\\lambda=39$) استفاده کند. با توجه به اینکه $\\lambda$ میانگین تعداد ماشین‌ها در این زمان است به نظرش می‌رسد که برای 30 ثانیه احتمالا این میانگین نصف شود. (سعی کنید این نتیجه‌گیری را صرفا با استفاده از فرایند اثبات توزیع پوآسون هم ثابت کنید)\n",
    "            <br>\n",
    "            در زیر با استفاده از داده‌های میلاد تعداد ماشین‌های گذرنده در بازه‌های 30 ثانیه محاسبه و نمودار بالا  یکبار برای مقدار $\\lambda=39$ و یکبار برای $\\lambda=\\frac{39}{2}$ رسم شده است. \n",
    "        </ul>\n",
    "\t</font>\n",
    "</div>"
   ]
  },
  {
   "cell_type": "code",
   "execution_count": 17,
   "metadata": {},
   "outputs": [
    {
     "data": {
      "image/png": "[encoded data removed]",
      "text/plain": [
       "<Figure size 640x480 with 1 Axes>"
      ]
     },
     "metadata": {},
     "output_type": "display_data"
    },
    {
     "data": {
      "image/png": "[encoded data removed]",
      "text/plain": [
       "<Figure size 640x480 with 1 Axes>"
      ]
     },
     "metadata": {},
     "output_type": "display_data"
    }
   ],
   "source": [
    "# Number of passing cars per 30 seconds\n",
    "cars.columns = cars.columns.str.strip()\n",
    "\n",
    "new_Ks = [sum((cars['minute'] == x) & (cars['second'] < 30)) + \n",
    "          sum((cars['minute'] == x) & (cars['second'] >= 30)) for x in range(10)]\n",
    "\n",
    "# Plotting the histogram with the original lambda\n",
    "plot_hist_pois(new_Ks, lambd)\n",
    "\n",
    "# Plotting the histogram with lambda divided by 2\n",
    "plot_hist_pois(new_Ks, lambd / 2)\n"
   ]
  },
  {
   "cell_type": "markdown",
   "metadata": {},
   "source": [
    "<p></p>\n",
    "<br />\n",
    "<div id=\"sec_pois_eg\" style=\"direction:rtl;line-height:300%;\">\n",
    "\t<font face=\"XB Zar\" size=5>\n",
    "\t\t<font color=#FF7500 size=6>\n",
    "           یک مثال       </font>\n",
    "\t\t<p></p>\n",
    "\t\t<hr>\n",
    "        فرض کنید $X$ نشان‌دهنده تعداد غلطهای املایی در یک صفحه چاپی با میانگین 5 غلط باشد. احتمال این‌که در سه صفحه چاپی تصادفی مجموعا بیش از 10 غلط املایی وجود داشته باشد چقدر است؟\n",
    "        <br>\n",
    "        پاسخ: اولا در نظر بگیرید که $X$ می‌تواند از توزیع پوآسون پیروی کند(تعداد رخدادها(غلط املایی) در یک بازه مکانی(صفحه چاپی). سعی کنید سه فرض فرایند تقریبی پوآسون را با این مساله چک کنید)\n",
    "        <br>\n",
    "        اما $X$ نشان‌دهنده تعداد غلط‌های املایی در یک صفحه است و نه سه صفحه. متغیر تصادفی $Y$ را تعداد غلطهای املایی در سه صفحه تصادفی تعریف می‌کنیم. با توجه به قسمت قبل می‌دانیم $Y$ از یک توزیع پوآسون می‌آید طوری که:<br>\n",
    "        <center>\n",
    "            $\\lambda_{Y} = 3\\lambda_{X} = 3 \\times 5 = 15$\n",
    "        </center> \n",
    "        <br>\n",
    "         <center>\n",
    "            $P(Y>10) = 1 - P(Y\\leq10) = 1 - \\sum_{k=0}^{10} P(Y=k) =  1 - \\sum_{k=0}^{10} e^{-15}\\frac{15^k}{k!}$\n",
    "        </center> \n",
    "        <br>\n",
    "        در زبان R با تکه کد زیر می‌توان حاصل این احتمال را حساب کرد.\n",
    "\t</font>\n",
    "</div>"
   ]
  },
  {
   "cell_type": "code",
   "execution_count": 18,
   "metadata": {},
   "outputs": [
    {
     "name": "stdout",
     "output_type": "stream",
     "text": [
      "Using built-in function: 0.881535588470985\n",
      "Using custom function: 0.8815355884709849\n"
     ]
    }
   ],
   "source": [
    "import numpy as np\n",
    "from scipy.stats import poisson\n",
    "\n",
    "# Using the built-in Poisson distribution function\n",
    "lambda_param = 15\n",
    "probability_builtin = 1 - poisson.cdf(10, mu=lambda_param)\n",
    "print(f\"Using built-in function: {probability_builtin}\")\n",
    "\n",
    "# Using the custom Poisson probability function\n",
    "def pois_prob(k, lambd):\n",
    "    return np.exp(-lambd) * (lambd**k) / np.math.factorial(k)\n",
    "\n",
    "# Calculate the cumulative probability using the custom function\n",
    "custom_probability = 1 - sum(pois_prob(x, lambda_param) for x in range(11))\n",
    "print(f\"Using custom function: {custom_probability}\")\n"
   ]
  },
  {
   "cell_type": "markdown",
   "metadata": {},
   "source": [
    "<p></p>\n",
    "<br />\n",
    "<div id=\"sec_geo\" style=\"direction:rtl;line-height:300%;\">\n",
    "\t<font face=\"XB Zar\" size=5>\n",
    "\t\t<font color=#FF7500 size=6>\n",
    "توزیع‌های هندسی\n",
    "        </font>\n",
    "\t\t<p></p>\n",
    "\t\t<hr>\n",
    "        در نظریه احتمال واژه \"توزیع هندسی\" به بررسی مسئله‌ای با شرایط محیطی زیر می‌پردازد:\n",
    "        <ul style=\"margin-right: 0;\">\n",
    "            <li>\n",
    "                یک کار به صورت پشت‌سرهم تکرار می‌شود به صورتی که نتیجه هر بار انجام آن‌کار کاملا مستقل از دفعات قبل است که این کار می‌تواند پرتاب مکرر یک سکه و یا اجرای تست‌های گوناگون بر روی یک سیستم و اعمالی نظیر این دو باشد.همان طور که احتمالا مشخص است در هر دو مثال مطرح شده خروجی هر بار پرتاب سکه و خروجی هر بار اجرای یک تست گوناگون بر روی یک سیستم کاملا مستقل از پرتاب‌ها و تست‌های قبل است.\n",
    "            </li>\n",
    "            <li>\n",
    "                خروجی‌های کار انجام‌شده هر چیز که باشد بتوان آن را در یکی از گروه‌های \"موفقیت\" و \"شکست\" قرار داد. برای نمونه در دو مثال سکه \"آمدن شیر\" را \"موفقیت\" و \"آمدن خط\" را \"شکست\" در نظر بگیریم یا در مثال تست سیستم \"اجرای کامل تست\" را \"موفقیت\" و \"عدم اجرای کامل تست\" را \"شکست\" در نظر بگیریم. مهم نیست که چند نوع خروجی در گروه موفقیت و یا شکست قرار می‌گیرد بلکه توانایی در دسته‌بندی خروجی‌ها به این شکل مد نظر است. بنابراین منظور از استقلال در بالا این است که احتمال موفقیت و شکست در هر بار انجام کار برابر با احتمال موفقیت و شکست در دفعات قبل باشد.\n",
    "            </li>\n",
    "        </ul>\n",
    "        نکته مهمی که احتمالا تاکنون متوجه شدید این است که در بررسی \"توزیع گسسته هندسی\" به جزئیات خروجی‌های یک کار پرداخته نمی‌شود و تنها موفقیت و یا شکست آن مد نظر است. برای مثال در پرتاب یک تاس ممکن است ۶ خروجی متفاوت حاصل شود، حال فرض کنید با مسئله زیر روبرو می‌شویم:\n",
    "        یک تاس را دو بار می‌اندازیم، به چه احتمالی هر دو بار ۶ ظاهر می‌شود؟\n",
    "        طبق سوالی که در این مسئله مطرح شده است، ظاهر شدن ۶ به منزله‌ی موفقیت و ظاهر شدن هر عددی غیر از ۶ به منرله‌ای شکست تلقی می‌شود و از آن‌جا که هر بار پرتاب تاس مستقل از دفعات قبل است بنابراین مسئله ذکر شده در شرایط محیطی توزیع هندسی صدق می‌کند.\n",
    "     </font>\n",
    "</div>\n",
    "\n"
   ]
  },
  {
   "cell_type": "markdown",
   "metadata": {},
   "source": [
    "<p></p>\n",
    "<br />\n",
    "<div id=\"sec_def_geometric\" style=\"direction:rtl;line-height:300%;\">\n",
    "\t<font face=\"XB Zar\" size=5>\n",
    "\t\t<font color=#FF7500 size=6>\n",
    "تعریف دقیق\n",
    "        </font>\n",
    "\t\t<p></p>\n",
    "\t\t<hr>\n",
    "        معمولا توزیع هندسی به یکی از دو شکل زیر مطرح می‌شود:\n",
    "        <ul style=\"margin-right: 0;\">\n",
    "            <li>\n",
    "                توزیع احتمالاتی تعداد $X$ کارآزمایی‌های برنولی برای دستیابی به یک موفقیت مورد نیاز. فرض کنید احتمال موفقیت $p$ و در نتیجه احتمال شکست ($1-p$) می‌باشد و در این حالت ما ($K-1$) شکست و یک موفقیت نیاز داریم بنابراین احتمال مورد نظر ما برابر است با: \n",
    "            </li>\n",
    "        </ul>\n",
    "\t</font>\n",
    "</div>"
   ]
  },
  {
   "cell_type": "markdown",
   "metadata": {},
   "source": [
    "$Pr(X=k) = (1-p)^{k-1}p$"
   ]
  },
  {
   "cell_type": "markdown",
   "metadata": {},
   "source": [
    "<p></p>\n",
    "<br />\n",
    "<div id=\"sec_def\" style=\"direction:rtl;line-height:300%;\">\n",
    "\t<font face=\"XB Zar\" size=5>\n",
    "        <ul style=\"margin-right: 0;\">\n",
    "            <li>\n",
    "                احتمال وقوع K شکست قبل از وقوع اولین موفقیت. در این حالت ما به K شکست و سپس یک موفقیت نیاز داریم  بنابراین احتمال مورد نظر برابر است با:\n",
    "            </li>\n",
    "        </ul>\n",
    "\t</font>\n",
    "</div>"
   ]
  },
  {
   "cell_type": "markdown",
   "metadata": {},
   "source": [
    "$P(Y=k) = (1-p)^{k}p$"
   ]
  },
  {
   "cell_type": "markdown",
   "metadata": {},
   "source": [
    "<p></p>\n",
    "<br />\n",
    "<div id=\"sec_uniform\" style=\"direction:rtl;line-height:300%;\">\n",
    "\t<font face=\"XB Zar\" size=5 color='blue'>\n",
    "        <b>\n",
    "            سوال: \n",
    "        </b>\n",
    "        تفاوت توزیع هندسی و برنولی در چیست؟\n",
    "    <br>\n",
    "    </font>\n",
    "</div>"
   ]
  },
  {
   "cell_type": "markdown",
   "metadata": {},
   "source": [
    "<p></p>\n",
    "<br />\n",
    "<div id=\"sec_geo_eg\" style=\"direction:rtl;line-height:300%;\">\n",
    "\t<font face=\"XB Zar\" size=5>\n",
    "\t\t<font color=#FF7500 size=6>\n",
    "           یک مثال       </font>\n",
    "\t\t<p></p>\n",
    "\t\t<hr>\n",
    "         مهران، دانشجوی دانشکده کامپیوتر می‌خواهد بداند چرا و به چه دلیل سایت دانشکده را نصف کرده‌اند. او تصمیم می‌گیرد از شورای دانشکده این سوال را بپرسد. به اتاق شورا مراجعه می‌کند اما همه افراد آن‌جا مدعی می‌شوند که آن‌ها اعضای انجمن علمی هستند و اصلا نمی‌دانند شورا چیست. حال مهران تصمیم می‌گیرد در لابی دانشکده به صورت تصادفی از افراد بپرسد که آیا آن‌ها عضو شورا هستند یا خیر تا بتواند سوالش را بپرسد.فرض کنید احتمال موفقیت او در یافتن چنین شخصی 0.2 باشد و بگذارید X تعداد افرادی که او از آن‌ها سوال می‌پرسد تا اولین عضو شورا را پیدا کند، را بیان کند.احتمال اینکه مهران چهار نفر را قبل از پیدا کردن عضوی از شورا مورد سوال قرار دهد چقدر است؟\n",
    "       <br>\n",
    "        پاسخ:\n",
    "        \n",
    "      \n",
    "</div>"
   ]
  },
  {
   "cell_type": "markdown",
   "metadata": {},
   "source": [
    "  $P(X=4) =(0.8)^3 (0.2)=0.1024 $"
   ]
  },
  {
   "cell_type": "markdown",
   "metadata": {},
   "source": [
    "<p></p>\n",
    "<br />\n",
    "<div id=\"sec_geo_eg\" style=\"direction:rtl;line-height:300%;\">\n",
    "\t<font face=\"XB Zar\" size=5 color='blue'>\n",
    "\t\t<p></p>\n",
    "\t\t<hr>\n",
    "        تمرین : احتمال اینکه مهران بیشتر از 6 نفر را قبل از پیدا کردن عضوی از شورا مورد پرسش قرار دهد چقدر است ؟\n",
    "        \n",
    "      \n",
    "</div>"
   ]
  },
  {
   "cell_type": "markdown",
   "metadata": {},
   "source": [
    "<p></p>\n",
    "<br />\n",
    "<div id=\"sec_geo_eg\" style=\"direction:rtl;line-height:300%;\">\n",
    "\t<font face=\"XB Zar\" size=5 >\n",
    "\t\t<p></p>\n",
    "\t\t<hr>\n",
    "       ثابت کنید امید ریاضی متغیر تصادفی هندسی با پارامتر p برابر است با $\\frac{1}{p}$\n",
    "          \\begin{align*}P(X=k)=p(1-p)^{k-1}.\\\\ E(X)&=\\sum_{k=1}^{\\infty}kp(1-p)^{k-1} \\\\ &=p\\sum_{k=1}^{\\infty}k(1-p)^{k-1} \\\\ &=p\\left(-\\frac{d}{dp}\\sum_{k=1}^{\\infty}(1-p)^k\\right) \\\\ &=p\\left(-\\frac{d}{dp}\\frac{1-p}{p}\\right) \\\\ &=p\\left(\\frac{d}{dp}\\left(1-\\frac{1}{p}\\right)\\right)=p\\left(\\frac{1}{p^2}\\right)=\\frac1p\\end{align*}\n",
    "      \n",
    "</div>"
   ]
  },
  {
   "cell_type": "markdown",
   "metadata": {},
   "source": [
    "<p></p>\n",
    "<br />\n",
    "<div id=\"sec_geo_eg\" style=\"direction:rtl;line-height:300%;\">\n",
    "\t<font face=\"XB Zar\" size=5 color='blue'>\n",
    "\t\t<p></p>\n",
    "\t\t<hr>\n",
    "    تمرین: فرض کنید می‌دانیم مهران بیش از n نفر را مورد سوال قرار داده است. احتمال اینکه اون از بیش از n+m نفر سوال بپرسد تا به عضوی از شورا برسد را محاسبه کنید.\n",
    "        <br>\n",
    "        <font color='purple'>راهنمایی: باید احتمال $P(X > n+m | X > n) $ را محاسبه کنید.</font>\n",
    "        <br>\n",
    "        - احتمال بدست آمده تابع کدام متغییر هاست؟ \n",
    "        <br>\n",
    "        - آیا می‌توان گفت که توزیع هندسی حافظه ندارد؟\n",
    "        <br>\n",
    "        در جلسات بعدی بیشتر در مورد این مفهوم صحبت خواهیم کرد.\n",
    "        \n",
    "      \n",
    "</div>"
   ]
  },
  {
   "cell_type": "markdown",
   "metadata": {},
   "source": [
    "<p></p>\n",
    "<br />\n",
    "<div id=\"sec_hypergeo\" style=\"direction:rtl;line-height:300%;\">\n",
    "\t<font face=\"XB Zar\" size=5>\n",
    "\t\t<font color=#FF7500 size=6>\n",
    "آشنایی با توزیع‌های فوق هندسی\n",
    "        </font>\n",
    "\t\t<p></p>\n",
    "           فرض کنید ظرفی مانند شکل زیر دارید که در آن دو نوع توپ وجود دارد. به طوری که تعداد توپ های آبی $N_1$، تعداد توپ های قرمز $N_2$ و N تعداد کل توپ هاست. حال متغیر تصادفی که حضور دقیقا x توپ قرمز را پس از n انتخاب بدون جایگذاری بیان می‌کند از نوع فوق هندسی می‌باشد. \n",
    "               <br>      \n",
    "        <img src=\"figure/hypergeo.png\" width=\"500\">\n",
    "         </font>\n",
    "</div>\n",
    "\n"
   ]
  },
  {
   "cell_type": "markdown",
   "metadata": {},
   "source": [
    "<p></p>\n",
    "<br />\n",
    "<div id=\"sec_hypergeo\" style=\"direction:ltl;line-height:300%;\">\n",
    "\t<font face=\"XB Zar\" size=5>\n",
    "\t\t<font color=#FF7500 size=6>\n",
    "        </font>\n",
    "               <br>       \n",
    "                 $ P(X=x) = \\frac{{N_2 \\choose x }{N_1 \\choose n-x}}{N \\choose n}$\n",
    "         </font>\n",
    "</div>\n"
   ]
  },
  {
   "cell_type": "markdown",
   "metadata": {},
   "source": [
    "<p></p>\n",
    "<br />\n",
    "<div id=\"sec_hypergeo\" style=\"direction:rtl;line-height:300%;\">\n",
    "\t<font face=\"XB Zar\" size=5  >\n",
    "        <font size=6 color='navy'> تفاوت با توزیع باینومیال </font>\n",
    "        <br>\n",
    "       همانطور که در بالا اشاره شد در توزیع فوق‌هندسی جایگذاری نداریم.\n",
    "        <br>\n",
    "        این توزیع برای جمعیت کم کاربرد دارد، جایی که عدم جایگذاری در احتمال‌های ترایال‌های بعدی موثر باشد.\n",
    "        <br>\n",
    "        اما در توزیع باینومیال جمعیت کل بی‌نهایت تصور می‌شود و این عدم جایگذاری تاثیری در احتمال ترایال بعدی نمی‌گذارد.\n",
    "              \n",
    "         \n",
    "</div>\n"
   ]
  },
  {
   "cell_type": "markdown",
   "metadata": {},
   "source": [
    "<p></p>\n",
    "<br/>\n",
    "<div id=\"sec_refs\" style=\"direction:rtl;line-height:300%;\">\n",
    "\t<font face=\"XB Zar\" size=5>\n",
    "\t\t<font color=#FF7500 size=6>\n",
    "منابع\n",
    "        </font>\n",
    "\t\t<hr>       \n",
    "        <ul>\n",
    "            <li>\n",
    "                https://newonlinecourses.science.psu.edu/stat414\n",
    "            </li>\n",
    "            <li>\n",
    "                https://www.rdocumentation.org/\n",
    "            </li>\n",
    "        </ul>\n",
    "\t</font>\n",
    "</div>"
   ]
  }
 ],
 "metadata": {
  "kernelspec": {
   "display_name": "Python 3 (ipykernel)",
   "language": "python",
   "name": "python3"
  },
  "language_info": {
   "codemirror_mode": {
    "name": "ipython",
    "version": 3
   },
   "file_extension": ".py",
   "mimetype": "text/x-python",
   "name": "python",
   "nbconvert_exporter": "python",
   "pygments_lexer": "ipython3",
   "version": "3.9.13"
  },
  "latex_envs": {
   "LaTeX_envs_menu_present": true,
   "autoclose": false,
   "autocomplete": true,
   "bibliofile": "biblio.bib",
   "cite_by": "apalike",
   "current_citInitial": 1,
   "eqLabelWithNumbers": true,
   "eqNumInitial": 1,
   "hotkeys": {
    "equation": "Ctrl-E",
    "itemize": "Ctrl-I"
   },
   "labels_anchors": false,
   "latex_user_defs": false,
   "report_style_numbering": false,
   "user_envs_cfg": false
  },
  "toc": {
   "base_numbering": 1,
   "nav_menu": {},
   "number_sections": true,
   "sideBar": true,
   "skip_h1_title": false,
   "title_cell": "Table of Contents",
   "title_sidebar": "Contents",
   "toc_cell": false,
   "toc_position": {},
   "toc_section_display": true,
   "toc_window_display": false
  },
  "varInspector": {
   "cols": {
    "lenName": 16,
    "lenType": 16,
    "lenVar": 40
   },
   "kernels_config": {
    "python": {
     "delete_cmd_postfix": "",
     "delete_cmd_prefix": "del ",
     "library": "var_list.py",
     "varRefreshCmd": "print(var_dic_list())"
    },
    "r": {
     "delete_cmd_postfix": ") ",
     "delete_cmd_prefix": "rm(",
     "library": "var_list.r",
     "varRefreshCmd": "cat(var_dic_list()) "
    }
   },
   "types_to_exclude": [
    "module",
    "function",
    "builtin_function_or_method",
    "instance",
    "_Feature"
   ],
   "window_display": false
  }
 },
 "nbformat": 4,
 "nbformat_minor": 1
}
