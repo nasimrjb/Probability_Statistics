{
  "cells": [
    {
      "cell_type": "markdown",
      "metadata": {
        "id": "CiX5QH9wwaUK"
      },
      "source": [
        "<div style=\"direction:rtl;line-height:300%;\">\n",
        "\t<font face=\"XB Zar\" size=5>\n",
        "\t\t<div align=center>\n",
        "\t\t\t<font face=\"IranNastaliq\" size=30>\n",
        "\t\t\t\t<p></p>\n",
        "\t\t\t\t<p></p>\n",
        "به نام خدا\n",
        "\t\t\t\t<p></p>\n",
        "\t\t\t</font>\n",
        "\t\t\t<font color=#FF7500>\n",
        "دانشگاه صنعتی شریف - دانشکده مهندسی کامپیوتر\n",
        "            </font>\n",
        "\t\t\t<p></p>\n",
        "\t\t\t<font color=blue>\n",
        "آمار و احتمال مهندسی\n",
        "            </font>\n",
        "\t\t\t<br />\n",
        "\t\t\t<br />\n",
        "پاییز ۱۳۹۸\n",
        "\t\t</div>\n",
        "\t\t<hr/>\n",
        "\t\t<font color=red size=6>\n",
        "\t\t\t<br />\n",
        "\t\t\t<div align=center>\n",
        "توزیع گاما و بتا            </div>\n",
        "\t\t</font>\n",
        "\t\t<br />\n",
        "\t\t<div align=center>\n",
        "مهدی غزنوی\n",
        "        </div>\n",
        "\t\t<hr />\n",
        "\t\t<style type=\"text/css\" scoped>\n",
        "        p{\n",
        "        border: 1px solid #a2a9b1;background-color: #f8f9fa;display: inline-block;\n",
        "        };\n",
        "        </style>\n",
        "\t\t<div>\n",
        "\t\t\t<h3>فهرست مطالب</h3>\n",
        "\t\t\t<ul style=\"margin-right: 0;\">\n",
        "                <li>\n",
        "                    <a href=\"#gamma_function\">\n",
        "                        تابع گاما\n",
        "                    </a>\n",
        "                </li>\n",
        "                <li>\n",
        "                    <a href=\"#beta_distribution\">\n",
        "                        توزیع بتا\n",
        "                    </a>\n",
        "                </li>\n",
        "                <li>\n",
        "                    <a href=\"#conjugracy\">\n",
        "                        توزیع بتا به عنوان توزیع پیشینی برای باینومیال\n",
        "                    </a>\n",
        "                </li>\n",
        "                <li>\n",
        "                    <a href=\"#gamma_distribution\">\n",
        "                        توزیع گاما\n",
        "                    </a>\n",
        "                </li>\n",
        "                <li>\n",
        "                    <a href=\"#gamma_and_exp\">\n",
        "                        رابطه ی توزیع گاما و توزیع نمایی\n",
        "                    </a>\n",
        "                </li>\n",
        "                <li>\n",
        "                    <a href=\"#sec_refs\">\n",
        "                        منابع\n",
        "                    </a>\n",
        "                </li>\n",
        "\t\t\t</ul>\n",
        "\t\t</div>\n",
        "\t</font>\n",
        "</div>"
      ]
    },
    {
      "cell_type": "markdown",
      "metadata": {
        "id": "sHttNVelwaUM"
      },
      "source": [
        "<p></p>\n",
        "<br />\n",
        "<div id=\"gamma_function\" style=\"direction:rtl;line-height:300%;\">\n",
        "\t<font face=\"XB Zar\" size=5>\n",
        "\t\t<font color=#FF7500 size=6>\n",
        "تابع گاما\n",
        "        </font>\n",
        "\t\t<p></p>\n",
        "\t\t<hr>\n",
        "        تابع گاما یکی از توابع پرکاربرد در ریاضیات است که به صورت زیر تعریف می شود:<br/>\n",
        "        $$\\Gamma(z)=\\int_0^\\infty{x^{z-1}e^{-x}dx}$$<br/>\n",
        "        یکی از مهمترین کاربردهای تابع گاما در تعریف فاکتوریل است. تابع گاما در نقاط مثبت تابعی تحلیلیست که مقدار آن در نقطه ی $n$ برابر $(n-1)!$ می باشد. با توابع تحلیلی در ریاضی عمومی ۱ آشنا شده اید.<br/>\n",
        "        <img src=\"figures\\gamma-function-graph.jpg\">\n",
        "    </font>\n",
        "</div>"
      ]
    },
    {
      "cell_type": "markdown",
      "metadata": {
        "id": "dcPs9wpmwaUM"
      },
      "source": [
        "<div id=\"beta_distribution\" style=\"direction:rtl; line-height:300%;\">\n",
        "    <font face=\"XB Zar\" size=\"5\">\n",
        "        <font color=\"#FF7500\" size=\"6\">\n",
        "            توزیع بتا\n",
        "        </font>\n",
        "        <p></p>\n",
        "        <hr>\n",
        "        توزیع بتا با $Beta(\\alpha,\\beta)$ که در آن $\\alpha > 0$ و $\\beta > 0$ مشخص می‌شود. تابع توزیع احتمال آن به صورت زیر است: <br/>\n",
        "        $$f(x) = \\frac{x^{\\alpha-1} (1 - x)^{\\beta-1}}{B(\\alpha, \\beta)}$$<br/>\n",
        "        که در آن $0 < x < 1$. در اینجا تابع $B(\\alpha, \\beta)$ ثابتی است که با تقسیم صورت بر آن، انتگرال $f$ با متغیر $x$ از ۰ تا ۱ برابر ۱ می‌شود و به آن ثابت به‌هنجارسازی (normalization) می‌گویند:<br/>\n",
        "        $$B(\\alpha, \\beta) = \\frac{\\Gamma(\\alpha)\\Gamma(\\beta)}{\\Gamma(\\alpha + \\beta)}$$<br/>\n",
        "        توزیع بتا با وجود ظاهر غریبش بسیار کاربردی است! این توزیع شامل خانواده‌ای از توزیع‌های پیوسته روی بازه $[0,1]$ است. <br/>\n",
        "        در زیر به برخی از کاربردهای این توزیع اشاره می‌کنیم. زمانی که با رویکرد بیزین در آمار آشنا شدید، بیشتر به اهمیت این توزیع پی خواهید برد :)<br/>\n",
        "        <img src=\"figures/beta_dist.png\" width=\"500\" alt=\"Beta Distribution\">\n",
        "    </font>\n",
        "</div>"
      ]
    },
    {
      "cell_type": "markdown",
      "metadata": {
        "id": "SXZ7k4GswaUM"
      },
      "source": [
        "<p></p>\n",
        "<br />\n",
        "<div id=\"conjugracy\" style=\"direction:rtl;line-height:300%;\">\n",
        "\t<font face=\"XB Zar\" size=5>\n",
        "\t\t<font color=#FF7500 size=6>\n",
        "توزیع بتا به عنوان توزیع پیشینی برای باینومیال\n",
        "        </font>\n",
        "\t\t<p></p>\n",
        "\t\t<hr>\n",
        "         فرض کنید یک سکه داریم که احتمال رو آمدن آن مقدار نا معلوم $\\theta$ می باشد. در روش بیزین برای تخمین $\\theta$ ابتدا یک توزیع پیشینی برای آن در نظر می  گیریم و سپس با انجام آزمایش توزیع پسین $\\theta$ را می یابیم.<br/>\n",
        "        ابتدا likelihood را می نویسیم. فرض کنید سکه را $n$ بار انداخته ایم و $x$ بار رو آمده است. در ایصورت مقدار likelihood برابر است با:\n",
        "        $$Pr(x|n,\\theta)=\\binom{n}{x}\\theta^{x}(1-\\theta)^{n-x}$$ <br/>\n",
        "        توزیع پیشینی $\\theta$ را توزیع بتا با پارامترهای دلخواه $\\alpha$ و $\\beta$ در نظر می گیریم:<br/>\n",
        "        $$Pr(\\theta|\\alpha, \\beta)=B(\\theta; \\alpha, \\beta)=\\frac{1}{B(\\alpha, \\beta)}\\theta^{\\alpha-1}(1-\\theta)^{\\beta-1}$$<br/>\n",
        "        با انتخاب $\\alpha$ و $\\beta$ دلخواهتان می توانید باور اولیه ی خود نسبت به مقدار $\\theta$ را تعیین کنید. فرض کنید سکه را $n$ بار پرتاب کردیم و $x$ بار رو آمد. بنابراین با استفاده از قانون بیز می توانیم توزیع پسین را مطابق فرمول زیر به دست بیاوریم:<br/>\n",
        "        $$p(\\theta|x, n, \\alpha, \\beta)=\\frac{Pr(x|n, \\theta)p(\\theta|\\alpha, \\beta)}{Pr(x)}=\\frac{Pr(x|n, \\theta)p(\\theta|\\alpha, \\beta)}{\\int{Pr(x|n, \\theta)p(\\theta|\\alpha, \\beta)d\\theta}}$$<br/>\n",
        "        بیایید مخرج که ثابت normalization است را محاسبه کنیم:<br/>\n",
        "        $$\\int{Pr(x|n, \\theta)p(\\theta|\\alpha, \\beta)d\\theta}=\\binom{n}{x}\\frac{1}{B(\\alpha, \\beta)}\\int_0^1{\\theta^{\\alpha+x-1}(1-\\theta)^{\\beta+n-x-1}d\\theta}=\\binom{n}{x}\\frac{B(\\alpha+x, \\beta+n-x)}{B(\\alpha, \\beta)}$$<br/>\n",
        "        حال بنابر قانون بیز داریم:<br/>\n",
        "        $$p(\\theta|x, n, \\alpha, \\beta)=\\frac{Pr(x|n, \\theta)p(\\theta|\\alpha, \\beta)}{\\int{Pr(x|n, \\theta)p(\\theta|\\alpha, \\beta)d\\theta}}=[\\binom{n}{x}\\frac{B(\\alpha+x, \\beta+n-x)}{B(\\alpha, \\beta)}]^{-1}[\\binom{n}{x}\\theta^{x}(1-\\theta)^{n-x}][\\frac{\\theta^{\\alpha-1}(1-\\theta)^{\\beta-1}}{B(\\alpha, \\beta)}]=\\frac{1}{B(\\alpha+x, \\beta+n-x)}\\theta^{\\alpha+x-1}(1-\\theta)^{\\beta+n-x-1}=B(\\theta; \\alpha+x, \\beta+n-x)$$<br/>\n",
        "        بنابراین توزیع پسین، توزیع بتای دیگری با پارامترهای $\\alpha+x$ و $\\beta+n-x$ است؛ تنها تعداد رو آمدن ها را به پارامتر اول و تعداد پشت آمدن ها را به پارامتر دوم اضافه کرده ایم. دلیل این اتفاق «مزدوج»(conjugracy) بودن توزیع بتا با likelihood توزیع باینومیال است. بر همین اساس می توانیم تفسیر(interpretaion) از پارامترهای $\\alpha$ و $\\beta$ انتخابیمان نیز داشته باشیم؛ این دو پارامتر نشان دهنده ی تعداد رو و پشت آمدن های فرضی ای هستند که پیش از مشاهده ی داده در فرض می کنیم دیده ایم. برای مثال اگر تعداد بارهای رو و پشت آمدن فرضی برابر باشد، توزیع بتای متناظر نسبت به خط $x=0.5$ متقارن خواهد بود.(به نمودار بالا نگاه کنید)<br/>\n",
        "        در تصویر توزیع پیشین $Beta(5,6)$ بوده است. ۶ بار آزمایش را تکرار کردیم و ۵ بار آن رو آمده است. چنانکه مشاهده می کنید توزیع پسین چیزی بین likelihood و توزیع پیشین است.\n",
        "        <br/>\n",
        "        <img src=\"figures\\conjugracy.jpg\">\n",
        "    </font>\n",
        "</div>"
      ]
    },
    {
      "cell_type": "markdown",
      "metadata": {
        "id": "I_DCnJicwaUM"
      },
      "source": [
        "<p></p>\n",
        "<br />\n",
        "<div id=\"gamma_distribution\" style=\"direction:rtl;line-height:300%;\">\n",
        "\t<font face=\"XB Zar\" size=5>\n",
        "\t\t<font color=#FF7500 size=6>\n",
        "توزیع گاما\n",
        "        </font>\n",
        "\t\t<p></p>\n",
        "\t\t<hr>\n",
        "        فرض کنید میخواهیم یک تابع توزیع احتمال براساس تابع گاما بسازیم:<br/>\n",
        "        $$1=c\\int_0^\\infty{x^{\\alpha-1}e^{-x}}dx\\Rightarrow c = \\frac{1}{\\Gamma(\\alpha)}$$\n",
        "        <br/>\n",
        "        این توزیع علاوه بر پارامتر $\\alpha$ که به آن shape گویند، یک پارامتر دیگر نیز دارد. این پارامتر می تواند دو صورت داشته باشد:<br/>\n",
        "        <ul>\n",
        "            <li>\n",
        "            فرض کنید متغیر تصادفی $X$ از توزیعی بیاید که تابع توزیع احتمال آن به صورت $f(x)=\\frac{x^{\\alpha-1}e^{-x}}{\\Gamma(\\alpha)}$ باشد. حال اگر $Y=\\frac{X}{\\lambda}$ آنگاه تابع توزیع احتمال $Y$ برابر خواهد بود با $f(x)=\\frac{\\beta^{\\alpha}}{\\Gamma(\\alpha)}x^{\\alpha-1}e^{-\\beta x}$. به $\\beta$ پارامتر rate توزیع گاما گفته می شود.\n",
        "            </li>\n",
        "            <li>\n",
        "            اگر متغیر تصادفی $Y$ را به صورت $Y=\\theta X$ تعریف کنیم(در واقع $\\theta=\\frac{1}{\\beta}$) به $\\theta$ scale گفته می شود و تابع توزیع احتمال $Y$ برابر خواهد بود با: $f(x)=\\frac{1}{\\Gamma(\\alpha)\\theta^{\\alpha}}x^{\\alpha-1}e^{-\\frac{x}{\\theta}}$.\n",
        "            </li>\n",
        "        </ul>\n",
        "        این توزیع روی بازه ی $(0,\\infty]$ (مانند خود تابع گاما) تعریف می شود.<br/>\n",
        "        <img src=\"figures\\gamma_dist.png\">\n",
        "    </font>\n",
        "</div>"
      ]
    },
    {
      "cell_type": "markdown",
      "metadata": {
        "id": "SazmA3AAwaUM"
      },
      "source": [
        "<p></p>\n",
        "<br />\n",
        "<div id=\"gamma_and_exp\" style=\"direction:rtl;line-height:300%;\">\n",
        "\t<font face=\"XB Zar\" size=5>\n",
        "        برای تمرین می توانید خواص زیر را در مورد این توزیع ها اثبات کنید:<br/>\n",
        "        <ul>\n",
        "            <li>$\\sum_{i=0}^n{X_i}$ که $X_i\\sim Gamma(\\alpha_i, \\beta)$ از توزیع $Gamma(\\sum_{i=0}^n{\\alpha_i}, \\beta)$ پیروی می کند.\n",
        "            </li>\n",
        "            <li>\n",
        "                اگر $X_1\\sim Gamma(\\alpha_1, 1)$ و $X_2 \\sim Gamma(\\alpha_2, 1)$ در این صورت $\\frac{X_1}{X_1+X_2}$یک متغیر تصادفی از توزیع $Beta(\\alpha_1, \\alpha_2)$ است. در حالت کلی اگر $X_1\\sim Gamma(\\alpha_1, \\beta_1)$ و $X_2 \\sim Gamma(\\alpha_2, \\beta_2)$ آنگاه $\\frac{\\beta_2 X_1}{\\beta_2 X1 + \\beta_1 X2}$ متغیری تصادفی از توزیع $Beta(\\alpha_1, \\alpha_2)$ خواهد بود.\n",
        "            </li>\n",
        "        </ul>\n",
        "    </font>\n",
        "</div>"
      ]
    },
    {
      "cell_type": "markdown",
      "metadata": {
        "id": "OE3BoRjIwaUN"
      },
      "source": [
        "<p></p>\n",
        "<br />\n",
        "<div id=\"gamma_and_exp\" style=\"direction:rtl;line-height:300%;\">\n",
        "\t<font face=\"XB Zar\" size=5>\n",
        "\t\t<font color=#FF7500 size=6>\n",
        "رابطه ی توزیع گاما و توزیع نمایی\n",
        "        </font>\n",
        "\t\t<p></p>\n",
        "\t\t<hr>\n",
        "        می دانیم که در یک فرآیند پوآسون، زمان بین دو اتفاق از توزیع نمایی پیروی می کند. فرض کنید در همین فرآیند بخواهیم زمان اتفاق $n$ام را پیشبینی کنیم. <br/>\n",
        "        $$T_n=\\sum_{i=1}^n{X_i},\\  X_i  s\\ are\\ i.i.d\\ and\\ X_i\\sim Exp(\\lambda)$$\n",
        "        $$T_n\\sim Gamma(n, \\lambda)$$\n",
        "    </font>\n",
        "</div>"
      ]
    },
    {
      "cell_type": "code",
      "execution_count": 1,
      "metadata": {
        "id": "rSQQVs_FwaUN",
        "colab": {
          "base_uri": "https://localhost:8080/",
          "height": 472
        },
        "outputId": "3de2f500-5755-4c23-ec0f-cc374c530d21"
      },
      "outputs": [
        {
          "output_type": "display_data",
          "data": {
            "text/plain": [
              "<Figure size 640x480 with 1 Axes>"
            ],
            "image/png": "[encoded data removed]"
          },
          "metadata": {}
        }
      ],
      "source": [
        "import numpy as np\n",
        "import pandas as pd\n",
        "import matplotlib.pyplot as plt\n",
        "\n",
        "# Simulating the sum of 4 exponential distributions\n",
        "s = np.zeros(10000)\n",
        "for _ in range(4):\n",
        "    s += np.random.exponential(scale=1/3, size=10000)\n",
        "\n",
        "# Generating gamma distribution data\n",
        "d_exp = pd.DataFrame({'x': s})\n",
        "d_gamma = pd.DataFrame({'x': np.random.gamma(shape=4, scale=1/3, size=10000)})\n",
        "\n",
        "# Plotting histograms\n",
        "plt.hist(d_exp['x'], bins=50, color='red', alpha=0.5, label='Sum of Exponentials')\n",
        "plt.hist(d_gamma['x'], bins=50, color='blue', alpha=0.5, label='Gamma Distribution')\n",
        "\n",
        "plt.legend()\n",
        "plt.xlabel('Value')\n",
        "plt.ylabel('Frequency')\n",
        "plt.title('Comparison of Sum of Exponentials and Gamma Distribution')\n",
        "plt.show()\n"
      ]
    },
    {
      "cell_type": "markdown",
      "metadata": {
        "id": "B97Qz4XcwaUO"
      },
      "source": [
        "<p></p>\n",
        "<br />\n",
        "<div id=\"gamma_and_exp\" style=\"direction:rtl;line-height:300%;\">\n",
        "\t<font face=\"XB Zar\" size=5>\n",
        "\t\t<font color=#FF7500 size=6>\n",
        "منابع\n",
        "        </font>\n",
        "\t\t<p></p>\n",
        "\t\t<hr>\n",
        "        <ul>\n",
        "            <li>\n",
        "                <a href=\"https://github.com/buruzaemon/stats-110\">Statistics course, Harvard University, lectures 23 and 24\n",
        "                </a>\n",
        "            </li>\n",
        "            <li>\n",
        "                <a href=\"https://www.cse.wustl.edu/~garnett/cse515t/spring_2019/files/lecture_notes/2.pdf\">Washington University in St. Louis course on Bayesian Methods in Machine Learning – Spring 2019, lecture 2\n",
        "                </a>\n",
        "            </li>\n",
        "            <li>\n",
        "                Wikipedia\n",
        "            </li>\n",
        "        </ul>\n",
        "    </font>\n",
        "</div>"
      ]
    },
    {
      "cell_type": "code",
      "execution_count": null,
      "metadata": {
        "id": "9cjYkqSPwaUO"
      },
      "outputs": [],
      "source": []
    }
  ],
  "metadata": {
    "kernelspec": {
      "display_name": "Python 3",
      "name": "python3"
    },
    "language_info": {
      "name": "python"
    },
    "colab": {
      "provenance": [],
      "toc_visible": true
    }
  },
  "nbformat": 4,
  "nbformat_minor": 0
}